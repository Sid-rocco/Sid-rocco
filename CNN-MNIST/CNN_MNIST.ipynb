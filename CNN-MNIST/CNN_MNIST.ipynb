{
  "cells": [
    {
      "cell_type": "markdown",
      "metadata": {
        "id": "view-in-github",
        "colab_type": "text"
      },
      "source": [
        "<a href=\"https://colab.research.google.com/github/Sid-rocco/Sid-rocco/blob/main/CNN-MNIST/CNN_MNIST.ipynb\" target=\"_parent\"><img src=\"https://colab.research.google.com/assets/colab-badge.svg\" alt=\"Open In Colab\"/></a>"
      ]
    },
    {
      "cell_type": "code",
      "execution_count": null,
      "metadata": {
        "colab": {
          "base_uri": "https://localhost:8080/"
        },
        "id": "O9seuJIplgFH",
        "outputId": "7ab015b6-8663-4615-91a3-0e52bada19c2"
      },
      "outputs": [
        {
          "output_type": "stream",
          "name": "stdout",
          "text": [
            "Downloading data from https://storage.googleapis.com/tensorflow/tf-keras-datasets/mnist.npz\n",
            "11493376/11490434 [==============================] - 0s 0us/step\n",
            "11501568/11490434 [==============================] - 0s 0us/step\n",
            "Model: \"sequential\"\n",
            "_________________________________________________________________\n",
            " Layer (type)                Output Shape              Param #   \n",
            "=================================================================\n",
            " conv2d (Conv2D)             (None, 26, 26, 32)        320       \n",
            "                                                                 \n",
            " max_pooling2d (MaxPooling2D  (None, 13, 13, 32)       0         \n",
            " )                                                               \n",
            "                                                                 \n",
            " conv2d_1 (Conv2D)           (None, 11, 11, 64)        18496     \n",
            "                                                                 \n",
            " max_pooling2d_1 (MaxPooling  (None, 5, 5, 64)         0         \n",
            " 2D)                                                             \n",
            "                                                                 \n",
            " flatten (Flatten)           (None, 1600)              0         \n",
            "                                                                 \n",
            " dense (Dense)               (None, 64)                102464    \n",
            "                                                                 \n",
            " dense_1 (Dense)             (None, 32)                2080      \n",
            "                                                                 \n",
            " dense_2 (Dense)             (None, 10)                330       \n",
            "                                                                 \n",
            "=================================================================\n",
            "Total params: 123,690\n",
            "Trainable params: 123,690\n",
            "Non-trainable params: 0\n",
            "_________________________________________________________________\n"
          ]
        }
      ],
      "source": [
        "from tensorflow import keras\n",
        "import matplotlib.pyplot as plt\n",
        "import numpy as np\n",
        "from tensorflow.keras import layers\n",
        "from tensorflow.keras.models import Sequential\n",
        "\n",
        "(trainX, trainY), (testX, testY) = keras.datasets.mnist.load_data()\n",
        "\n",
        "# print('Train: x=%s, y=%s'% (trainX.shape, trainY.shape))\n",
        "# print('Test: x=%s, y=%s'% (testX.shape, testY.shape))\n",
        "\n",
        "no_Classes = 10\n",
        "input_class_shape = (28,28,1)\n",
        "input_size = 28\n",
        "\n",
        "# Normalization of the pixels along row pixels\n",
        "trainX = keras.utils.normalize(trainX, axis=1)\n",
        "testX = keras.utils.normalize(testX, axis=1)\n",
        "\n",
        "# plt.imshow(trainX[0], cmap=plt.cm.binary)\n",
        "# print(trainY[0])\n",
        "\n",
        "trainX = np.array(trainX).reshape(-1, input_size, input_size, 1)\n",
        "testX = np.array(testX).reshape(-1, input_size, input_size, 1)\n",
        "\n",
        "\n",
        "model = Sequential(\n",
        "    [\n",
        "    layers.Conv2D(32, (3, 3), input_shape= input_class_shape, activation=\"relu\"),\n",
        "    layers.MaxPooling2D(pool_size=(2, 2)),\n",
        "    layers.Conv2D(64, (3, 3), activation=\"relu\"),\n",
        "    layers.MaxPooling2D(pool_size=(2, 2)),\n",
        "    # layers.Flatten(),\n",
        "    # layers.Dropout(0.5),\n",
        "    # layers.Dense(no_Classes, activation=\"softmax\"),\n",
        "\n",
        "    layers.Flatten(), # convert it into an array to perfrom neural network\n",
        "    layers.Dense(64, activation='relu'),\n",
        "    layers.Dense(32, activation='relu'),\n",
        "    layers.Dense(10, activation='softmax'),\n",
        "    ]\n",
        ")\n",
        "\n",
        "model.summary()\n"
      ]
    },
    {
      "cell_type": "code",
      "execution_count": null,
      "metadata": {
        "id": "sLtlxqRgF-4g"
      },
      "outputs": [],
      "source": [
        "model.compile(loss=\"sparse_categorical_crossentropy\", optimizer=\"adam\", metrics=[\"accuracy\"])"
      ]
    },
    {
      "cell_type": "code",
      "execution_count": null,
      "metadata": {
        "colab": {
          "base_uri": "https://localhost:8080/"
        },
        "id": "Z961PeXbGTjP",
        "outputId": "5d7c827c-9d8e-4b98-9477-c279164d04b8"
      },
      "outputs": [
        {
          "output_type": "stream",
          "name": "stdout",
          "text": [
            "Epoch 1/20\n",
            "540/540 [==============================] - 2s 4ms/step - loss: 0.0322 - accuracy: 0.9896 - val_loss: 0.0411 - val_accuracy: 0.9890\n",
            "Epoch 2/20\n",
            "540/540 [==============================] - 2s 4ms/step - loss: 0.0256 - accuracy: 0.9921 - val_loss: 0.0387 - val_accuracy: 0.9887\n",
            "Epoch 3/20\n",
            "540/540 [==============================] - 2s 4ms/step - loss: 0.0223 - accuracy: 0.9924 - val_loss: 0.0435 - val_accuracy: 0.9875\n",
            "Epoch 4/20\n",
            "540/540 [==============================] - 2s 4ms/step - loss: 0.0183 - accuracy: 0.9940 - val_loss: 0.0484 - val_accuracy: 0.9878\n",
            "Epoch 5/20\n",
            "540/540 [==============================] - 2s 4ms/step - loss: 0.0167 - accuracy: 0.9946 - val_loss: 0.0421 - val_accuracy: 0.9892\n",
            "Epoch 6/20\n",
            "540/540 [==============================] - 2s 4ms/step - loss: 0.0134 - accuracy: 0.9957 - val_loss: 0.0376 - val_accuracy: 0.9902\n",
            "Epoch 7/20\n",
            "540/540 [==============================] - 2s 4ms/step - loss: 0.0116 - accuracy: 0.9962 - val_loss: 0.0428 - val_accuracy: 0.9890\n",
            "Epoch 8/20\n",
            "540/540 [==============================] - 2s 4ms/step - loss: 0.0102 - accuracy: 0.9965 - val_loss: 0.0591 - val_accuracy: 0.9865\n",
            "Epoch 9/20\n",
            "540/540 [==============================] - 2s 4ms/step - loss: 0.0101 - accuracy: 0.9966 - val_loss: 0.0461 - val_accuracy: 0.9892\n",
            "Epoch 10/20\n",
            "540/540 [==============================] - 2s 4ms/step - loss: 0.0068 - accuracy: 0.9976 - val_loss: 0.0480 - val_accuracy: 0.9878\n",
            "Epoch 11/20\n",
            "540/540 [==============================] - 2s 4ms/step - loss: 0.0066 - accuracy: 0.9979 - val_loss: 0.0529 - val_accuracy: 0.9897\n",
            "Epoch 12/20\n",
            "540/540 [==============================] - 2s 4ms/step - loss: 0.0074 - accuracy: 0.9974 - val_loss: 0.0446 - val_accuracy: 0.9895\n",
            "Epoch 13/20\n",
            "540/540 [==============================] - 2s 4ms/step - loss: 0.0068 - accuracy: 0.9978 - val_loss: 0.0481 - val_accuracy: 0.9895\n",
            "Epoch 14/20\n",
            "540/540 [==============================] - 2s 4ms/step - loss: 0.0043 - accuracy: 0.9984 - val_loss: 0.0504 - val_accuracy: 0.9897\n",
            "Epoch 15/20\n",
            "540/540 [==============================] - 2s 4ms/step - loss: 0.0049 - accuracy: 0.9981 - val_loss: 0.0481 - val_accuracy: 0.9907\n",
            "Epoch 16/20\n",
            "540/540 [==============================] - 2s 4ms/step - loss: 0.0056 - accuracy: 0.9981 - val_loss: 0.0626 - val_accuracy: 0.9882\n",
            "Epoch 17/20\n",
            "540/540 [==============================] - 3s 5ms/step - loss: 0.0027 - accuracy: 0.9993 - val_loss: 0.0574 - val_accuracy: 0.9892\n",
            "Epoch 18/20\n",
            "540/540 [==============================] - 2s 4ms/step - loss: 0.0058 - accuracy: 0.9981 - val_loss: 0.0588 - val_accuracy: 0.9893\n",
            "Epoch 19/20\n",
            "540/540 [==============================] - 3s 5ms/step - loss: 0.0055 - accuracy: 0.9979 - val_loss: 0.0530 - val_accuracy: 0.9897\n",
            "Epoch 20/20\n",
            "540/540 [==============================] - 2s 4ms/step - loss: 0.0031 - accuracy: 0.9990 - val_loss: 0.0542 - val_accuracy: 0.9900\n",
            "313/313 [==============================] - 1s 3ms/step - loss: 0.0607 - accuracy: 0.9880\n",
            "Test loss:  0.06066221743822098\n",
            "Test acc:  0.9879999756813049\n"
          ]
        }
      ],
      "source": [
        "model.fit(trainX, trainY, batch_size= 100, epochs=20, validation_split=0.1)\n",
        "score = model.evaluate(testX, testY)\n",
        "print(\"Test loss: \", score[0])\n",
        "print(\"Test acc: \", score[1])"
      ]
    },
    {
      "cell_type": "code",
      "source": [
        "model2 = Sequential(\n",
        "    [\n",
        "     \n",
        "     keras.Input(shape = (input_class_shape)),\n",
        "     layers.Flatten(),\n",
        "     layers.Dense(64, input_shape= input_class_shape, activation='relu'),\n",
        "     layers.Dense(64, activation='relu'),\n",
        "     layers.Dense(64, activation='relu'),\n",
        "     layers.Dense(32, activation='relu'),\n",
        "     layers.Dense(32, activation='relu'),\n",
        "     layers.Dense(10, activation='softmax'),\n",
        "    ]\n",
        ")"
      ],
      "metadata": {
        "id": "_KXg9ePzz3WB"
      },
      "execution_count": null,
      "outputs": []
    },
    {
      "cell_type": "code",
      "source": [
        "model2.compile(loss='sparse_categorical_crossentropy', optimizer ='adam', metrics=[\"accuracy\"])\n",
        "model2.summary()"
      ],
      "metadata": {
        "colab": {
          "base_uri": "https://localhost:8080/"
        },
        "id": "v1ba2r173sPT",
        "outputId": "e0c8cc01-90a4-41d7-a1ab-746c4b40b861"
      },
      "execution_count": null,
      "outputs": [
        {
          "output_type": "stream",
          "name": "stdout",
          "text": [
            "Model: \"sequential_1\"\n",
            "_________________________________________________________________\n",
            " Layer (type)                Output Shape              Param #   \n",
            "=================================================================\n",
            " flatten_1 (Flatten)         (None, 784)               0         \n",
            "                                                                 \n",
            " dense_3 (Dense)             (None, 64)                50240     \n",
            "                                                                 \n",
            " dense_4 (Dense)             (None, 64)                4160      \n",
            "                                                                 \n",
            " dense_5 (Dense)             (None, 64)                4160      \n",
            "                                                                 \n",
            " dense_6 (Dense)             (None, 32)                2080      \n",
            "                                                                 \n",
            " dense_7 (Dense)             (None, 32)                1056      \n",
            "                                                                 \n",
            " dense_8 (Dense)             (None, 10)                330       \n",
            "                                                                 \n",
            "=================================================================\n",
            "Total params: 62,026\n",
            "Trainable params: 62,026\n",
            "Non-trainable params: 0\n",
            "_________________________________________________________________\n"
          ]
        }
      ]
    },
    {
      "cell_type": "code",
      "source": [
        "model2.fit(trainX, trainY, batch_size=100, epochs=20,  validation_split=0.2)\n",
        "score2 = model2.evaluate(testX, testY)\n"
      ],
      "metadata": {
        "colab": {
          "base_uri": "https://localhost:8080/"
        },
        "id": "zhej74uc4FZK",
        "outputId": "5c8af8bc-f697-4077-98d3-a10b39624853"
      },
      "execution_count": null,
      "outputs": [
        {
          "output_type": "stream",
          "name": "stdout",
          "text": [
            "Epoch 1/20\n",
            "480/480 [==============================] - 2s 4ms/step - loss: 0.5382 - accuracy: 0.8316 - val_loss: 0.2246 - val_accuracy: 0.9341\n",
            "Epoch 2/20\n",
            "480/480 [==============================] - 2s 3ms/step - loss: 0.1893 - accuracy: 0.9435 - val_loss: 0.1790 - val_accuracy: 0.9470\n",
            "Epoch 3/20\n",
            "480/480 [==============================] - 2s 4ms/step - loss: 0.1349 - accuracy: 0.9597 - val_loss: 0.1433 - val_accuracy: 0.9588\n",
            "Epoch 4/20\n",
            "480/480 [==============================] - 2s 4ms/step - loss: 0.1064 - accuracy: 0.9676 - val_loss: 0.1342 - val_accuracy: 0.9613\n",
            "Epoch 5/20\n",
            "480/480 [==============================] - 2s 3ms/step - loss: 0.0880 - accuracy: 0.9725 - val_loss: 0.1292 - val_accuracy: 0.9628\n",
            "Epoch 6/20\n",
            "480/480 [==============================] - 2s 3ms/step - loss: 0.0745 - accuracy: 0.9768 - val_loss: 0.1306 - val_accuracy: 0.9607\n",
            "Epoch 7/20\n",
            "480/480 [==============================] - 2s 3ms/step - loss: 0.0614 - accuracy: 0.9814 - val_loss: 0.1196 - val_accuracy: 0.9653\n",
            "Epoch 8/20\n",
            "480/480 [==============================] - 2s 3ms/step - loss: 0.0535 - accuracy: 0.9827 - val_loss: 0.1439 - val_accuracy: 0.9609\n",
            "Epoch 9/20\n",
            "480/480 [==============================] - 2s 3ms/step - loss: 0.0472 - accuracy: 0.9841 - val_loss: 0.1383 - val_accuracy: 0.9633\n",
            "Epoch 10/20\n",
            "480/480 [==============================] - 2s 3ms/step - loss: 0.0419 - accuracy: 0.9867 - val_loss: 0.1364 - val_accuracy: 0.9638\n",
            "Epoch 11/20\n",
            "480/480 [==============================] - 2s 4ms/step - loss: 0.0368 - accuracy: 0.9882 - val_loss: 0.1351 - val_accuracy: 0.9672\n",
            "Epoch 12/20\n",
            "480/480 [==============================] - 2s 4ms/step - loss: 0.0309 - accuracy: 0.9899 - val_loss: 0.1350 - val_accuracy: 0.9662\n",
            "Epoch 13/20\n",
            "480/480 [==============================] - 2s 3ms/step - loss: 0.0286 - accuracy: 0.9904 - val_loss: 0.1506 - val_accuracy: 0.9635\n",
            "Epoch 14/20\n",
            "480/480 [==============================] - 2s 3ms/step - loss: 0.0246 - accuracy: 0.9915 - val_loss: 0.2214 - val_accuracy: 0.9545\n",
            "Epoch 15/20\n",
            "480/480 [==============================] - 2s 3ms/step - loss: 0.0252 - accuracy: 0.9914 - val_loss: 0.1434 - val_accuracy: 0.9678\n",
            "Epoch 16/20\n",
            "480/480 [==============================] - 2s 3ms/step - loss: 0.0182 - accuracy: 0.9937 - val_loss: 0.1893 - val_accuracy: 0.9615\n",
            "Epoch 17/20\n",
            "480/480 [==============================] - 2s 3ms/step - loss: 0.0204 - accuracy: 0.9929 - val_loss: 0.1549 - val_accuracy: 0.9677\n",
            "Epoch 18/20\n",
            "480/480 [==============================] - 2s 4ms/step - loss: 0.0182 - accuracy: 0.9938 - val_loss: 0.1667 - val_accuracy: 0.9665\n",
            "Epoch 19/20\n",
            "480/480 [==============================] - 2s 4ms/step - loss: 0.0178 - accuracy: 0.9938 - val_loss: 0.1768 - val_accuracy: 0.9655\n",
            "Epoch 20/20\n",
            "480/480 [==============================] - 2s 3ms/step - loss: 0.0159 - accuracy: 0.9946 - val_loss: 0.1726 - val_accuracy: 0.9648\n",
            "313/313 [==============================] - 1s 3ms/step - loss: 0.1573 - accuracy: 0.9637\n"
          ]
        }
      ]
    },
    {
      "cell_type": "code",
      "source": [
        "print(\"Test loss: \", score2[0])\n",
        "print(\"Test acc: \", score2[1])"
      ],
      "metadata": {
        "colab": {
          "base_uri": "https://localhost:8080/"
        },
        "id": "_WMHrYeq4vjT",
        "outputId": "e27b3204-6b50-4fe9-96a4-4d4b2bcd8302"
      },
      "execution_count": null,
      "outputs": [
        {
          "output_type": "stream",
          "name": "stdout",
          "text": [
            "Test loss:  0.15728436410427094\n",
            "Test acc:  0.963699996471405\n"
          ]
        }
      ]
    },
    {
      "cell_type": "code",
      "source": [
        "import cv2"
      ],
      "metadata": {
        "id": "pteVXjmbg7qe"
      },
      "execution_count": null,
      "outputs": []
    },
    {
      "cell_type": "code",
      "source": [
        "img0 = cv2.imread('img0.png')\n",
        "img1 = cv2.imread('img1.png')\n",
        "img2 = cv2.imread('img2.png')\n",
        "img3 = cv2.imread('img3.jpg')\n",
        "img4 = cv2.imread('img4.png')\n",
        "img5 = cv2.imread('img5.png')\n",
        "img6 = cv2.imread('img6.png')\n",
        "img7 = cv2.imread('img7.png')\n",
        "img8 = cv2.imread('img8.png')\n",
        "img9 = cv2.imread('img9.png')"
      ],
      "metadata": {
        "id": "-PKe4aaXhLJV"
      },
      "execution_count": null,
      "outputs": []
    },
    {
      "cell_type": "code",
      "source": [
        "img1.shape\n",
        "img2.shape\n",
        "img3.shape"
      ],
      "metadata": {
        "colab": {
          "base_uri": "https://localhost:8080/"
        },
        "id": "KvGpwmFYhYR9",
        "outputId": "8f87a0c6-79fe-4e9b-cd55-3e7fb98414ab"
      },
      "execution_count": null,
      "outputs": [
        {
          "output_type": "execute_result",
          "data": {
            "text/plain": [
              "(273, 273, 3)"
            ]
          },
          "metadata": {},
          "execution_count": 55
        }
      ]
    },
    {
      "cell_type": "code",
      "source": [
        "img_array = [img0]\n",
        "img_array.append(img1)\n",
        "img_array.append(img2)\n",
        "img_array.append(img3)\n",
        "img_array.append(img4)\n",
        "img_array.append(img5)\n",
        "img_array.append(img6)\n",
        "img_array.append(img7)\n",
        "img_array.append(img8)\n",
        "img_array.append(img9)\n"
      ],
      "metadata": {
        "id": "paEFkSKsDAZE"
      },
      "execution_count": null,
      "outputs": []
    },
    {
      "cell_type": "code",
      "source": [
        "img_gray1 = cv2. cvtColor(img1, cv2.COLOR_BGR2GRAY)\n",
        "img_resized1 = cv2.resize(img_gray1, (28, 28), interpolation= cv2.INTER_AREA)\n",
        "img_resized1.shape"
      ],
      "metadata": {
        "colab": {
          "base_uri": "https://localhost:8080/"
        },
        "id": "1udVLT9Qh8U2",
        "outputId": "3112fb27-9b2d-44a3-b616-d24ede08ad60"
      },
      "execution_count": null,
      "outputs": [
        {
          "output_type": "execute_result",
          "data": {
            "text/plain": [
              "(28, 28)"
            ]
          },
          "metadata": {},
          "execution_count": 57
        }
      ]
    },
    {
      "cell_type": "code",
      "source": [
        "img_gray2 = cv2. cvtColor(img2, cv2.COLOR_BGR2GRAY)\n",
        "img_resized2 = cv2.resize(img_gray2, (28, 28), interpolation= cv2.INTER_AREA)\n",
        "img_resized2.shape"
      ],
      "metadata": {
        "colab": {
          "base_uri": "https://localhost:8080/"
        },
        "id": "bWVS3mPpmOoD",
        "outputId": "f2706628-300f-47e0-db54-bf8eaaedb00d"
      },
      "execution_count": null,
      "outputs": [
        {
          "output_type": "execute_result",
          "data": {
            "text/plain": [
              "(28, 28)"
            ]
          },
          "metadata": {},
          "execution_count": 58
        }
      ]
    },
    {
      "cell_type": "code",
      "source": [
        "img_gray3 = cv2. cvtColor(img3, cv2.COLOR_BGR2GRAY)\n",
        "img_resized3 = cv2.resize(img_gray3, (28, 28), interpolation= cv2.INTER_AREA)\n",
        "img_resized3.shape\n",
        "img_gray4 = cv2. cvtColor(img4, cv2.COLOR_BGR2GRAY)\n",
        "img_resized4 = cv2.resize(img_gray4, (28, 28), interpolation= cv2.INTER_AREA)\n",
        "img_resized4.shape\n",
        "img_gray5 = cv2. cvtColor(img5, cv2.COLOR_BGR2GRAY)\n",
        "img_resized5 = cv2.resize(img_gray5, (28, 28), interpolation= cv2.INTER_AREA)\n",
        "img_resized5.shape\n",
        "img_gray6 = cv2. cvtColor(img6, cv2.COLOR_BGR2GRAY)\n",
        "img_resized6 = cv2.resize(img_gray6, (28, 28), interpolation= cv2.INTER_AREA)\n",
        "img_resized6.shape\n",
        "img_gray7 = cv2. cvtColor(img7, cv2.COLOR_BGR2GRAY)\n",
        "img_resized7 = cv2.resize(img_gray7, (28, 28), interpolation= cv2.INTER_AREA)\n",
        "img_resized7.shape\n",
        "img_gray8 = cv2. cvtColor(img8, cv2.COLOR_BGR2GRAY)\n",
        "img_resized8 = cv2.resize(img_gray8, (28, 28), interpolation= cv2.INTER_AREA)\n",
        "img_resized8.shape\n",
        "# img_gray9 = cv2. cvtColor(img9, cv2.COLOR_BGR2GRAY)\n",
        "# img_resized9 = cv2.resize(img_gray9, (28, 28), interpolation= cv2.INTER_AREA)\n",
        "# img_resized9.shape\n"
      ],
      "metadata": {
        "colab": {
          "base_uri": "https://localhost:8080/"
        },
        "id": "BygvC5qxmPTm",
        "outputId": "7312f671-3d6c-4033-a139-61e29e7c22e2"
      },
      "execution_count": null,
      "outputs": [
        {
          "output_type": "execute_result",
          "data": {
            "text/plain": [
              "(28, 28)"
            ]
          },
          "metadata": {},
          "execution_count": 59
        }
      ]
    },
    {
      "cell_type": "code",
      "source": [
        "norm_img1 = keras.utils.normalize(img_resized1, axis=1)\n",
        "norm_img2 = keras.utils.normalize(img_resized2, axis=1)\n",
        "norm_img3 = keras.utils.normalize(img_resized3, axis=1)\n",
        "norm_img4 = keras.utils.normalize(img_resized4, axis=1)\n",
        "norm_img5 = keras.utils.normalize(img_resized5, axis=1)\n",
        "norm_img6 = keras.utils.normalize(img_resized6, axis=1)\n",
        "norm_img7 = keras.utils.normalize(img_resized7, axis=1)\n",
        "norm_img8 = keras.utils.normalize(img_resized8, axis=1)\n",
        "# norm_img9 = keras.utils.normalize(img_resized9, axis=1)"
      ],
      "metadata": {
        "id": "Ce6kOLxmjR4J"
      },
      "execution_count": null,
      "outputs": []
    },
    {
      "cell_type": "code",
      "source": [
        "plt.subplot(1, 3, 1)\n",
        "plt.imshow(norm_img1)\n",
        "plt.subplot(1, 3, 2)\n",
        "plt.imshow(norm_img2)\n",
        "plt.subplot(1, 3, 3)\n",
        "plt.imshow(norm_img3)"
      ],
      "metadata": {
        "colab": {
          "base_uri": "https://localhost:8080/",
          "height": 166
        },
        "id": "ZVcV0jOuoKkF",
        "outputId": "5ab3e675-615c-4314-e994-ea7168e634a9"
      },
      "execution_count": null,
      "outputs": [
        {
          "output_type": "execute_result",
          "data": {
            "text/plain": [
              "<matplotlib.image.AxesImage at 0x7fc55e282a90>"
            ]
          },
          "metadata": {},
          "execution_count": 61
        },
        {
          "output_type": "display_data",
          "data": {
            "text/plain": [
              "<Figure size 432x288 with 3 Axes>"
            ],
            "image/png": "[encoded data removed]"
          },
          "metadata": {
            "needs_background": "light"
          }
        }
      ]
    },
    {
      "cell_type": "code",
      "source": [
        "norm_img1 = np.array(norm_img1).reshape(-1, input_size, input_size, 1)\n",
        "norm_img1.shape"
      ],
      "metadata": {
        "colab": {
          "base_uri": "https://localhost:8080/"
        },
        "id": "Fz7dtXS6kIcN",
        "outputId": "b49697ed-199e-4367-84b6-f0ffe231825b"
      },
      "execution_count": null,
      "outputs": [
        {
          "output_type": "execute_result",
          "data": {
            "text/plain": [
              "(1, 28, 28, 1)"
            ]
          },
          "metadata": {},
          "execution_count": 62
        }
      ]
    },
    {
      "cell_type": "code",
      "source": [
        "norm_img2 = np.array(norm_img2).reshape(-1, input_size, input_size, 1)\n",
        "norm_img2.shape"
      ],
      "metadata": {
        "colab": {
          "base_uri": "https://localhost:8080/"
        },
        "id": "2NpPeG-Wmkt7",
        "outputId": "0aed7452-38ca-4a4c-8633-a94d100b10f3"
      },
      "execution_count": null,
      "outputs": [
        {
          "output_type": "execute_result",
          "data": {
            "text/plain": [
              "(1, 28, 28, 1)"
            ]
          },
          "metadata": {},
          "execution_count": 63
        }
      ]
    },
    {
      "cell_type": "code",
      "source": [
        "norm_img3 = np.array(norm_img3).reshape(-1, input_size, input_size, 1)\n",
        "norm_img3.shape"
      ],
      "metadata": {
        "colab": {
          "base_uri": "https://localhost:8080/"
        },
        "id": "I_OKbYQomkWk",
        "outputId": "13e1d223-3218-41f2-fae7-c32eedb9330d"
      },
      "execution_count": null,
      "outputs": [
        {
          "output_type": "execute_result",
          "data": {
            "text/plain": [
              "(1, 28, 28, 1)"
            ]
          },
          "metadata": {},
          "execution_count": 64
        }
      ]
    },
    {
      "cell_type": "code",
      "source": [
        "norm_img4 = np.array(norm_img4).reshape(-1, input_size, input_size, 1)\n",
        "norm_img4.shape\n",
        "norm_img5 = np.array(norm_img5).reshape(-1, input_size, input_size, 1)\n",
        "norm_img5.shape\n",
        "norm_img6 = np.array(norm_img6).reshape(-1, input_size, input_size, 1)\n",
        "norm_img6.shape\n",
        "norm_img7 = np.array(norm_img7).reshape(-1, input_size, input_size, 1)\n",
        "norm_img7.shape\n",
        "norm_img8 = np.array(norm_img8).reshape(-1, input_size, input_size, 1)\n",
        "norm_img8.shape"
      ],
      "metadata": {
        "colab": {
          "base_uri": "https://localhost:8080/"
        },
        "id": "FQuAJJncE-fo",
        "outputId": "b865bc59-7a69-4ddb-e5d0-7e69d9a4dac8"
      },
      "execution_count": null,
      "outputs": [
        {
          "output_type": "execute_result",
          "data": {
            "text/plain": [
              "(1, 28, 28, 1)"
            ]
          },
          "metadata": {},
          "execution_count": 65
        }
      ]
    },
    {
      "cell_type": "code",
      "source": [
        "prediction1 = model.predict(norm_img1)\n",
        "prediction2 = model.predict(norm_img2)\n",
        "prediction3 = model.predict(norm_img3)\n",
        "prediction4 = model.predict(norm_img4)\n",
        "prediction5 = model.predict(norm_img5)\n",
        "prediction6 = model.predict(norm_img6)\n",
        "prediction7 = model.predict(norm_img7)\n",
        "prediction8 = model.predict(norm_img8)"
      ],
      "metadata": {
        "id": "mrW6ZfDnkpBX"
      },
      "execution_count": null,
      "outputs": []
    },
    {
      "cell_type": "code",
      "source": [
        "print(np.argmax(prediction1))\n",
        "print(np.argmax(prediction2))\n",
        "print(np.argmax(prediction3))\n",
        "print(np.argmax(prediction4))\n",
        "print(np.argmax(prediction5))\n",
        "print(np.argmax(prediction6))\n",
        "print(np.argmax(prediction7))\n",
        "print(np.argmax(prediction8))"
      ],
      "metadata": {
        "colab": {
          "base_uri": "https://localhost:8080/"
        },
        "id": "qNz9BQn0kzXg",
        "outputId": "0cafc6b3-b8e4-4363-ea10-1d466a7ab179"
      },
      "execution_count": null,
      "outputs": [
        {
          "output_type": "stream",
          "name": "stdout",
          "text": [
            "6\n",
            "2\n",
            "3\n",
            "4\n",
            "5\n",
            "6\n",
            "3\n",
            "8\n"
          ]
        }
      ]
    },
    {
      "cell_type": "code",
      "source": [
        ""
      ],
      "metadata": {
        "id": "Xi5fN0wtIdAn"
      },
      "execution_count": null,
      "outputs": []
    }
  ],
  "metadata": {
    "accelerator": "GPU",
    "colab": {
      "collapsed_sections": [],
      "name": "CNN_MNIST",
      "provenance": [],
      "authorship_tag": "ABX9TyP117Wc0Jo74ILcmhnvOCRk",
      "include_colab_link": true
    },
    "kernelspec": {
      "display_name": "Python 3",
      "name": "python3"
    },
    "language_info": {
      "name": "python"
    }
  },
  "nbformat": 4,
  "nbformat_minor": 0
}