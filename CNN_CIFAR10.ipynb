{
  "nbformat": 4,
  "nbformat_minor": 0,
  "metadata": {
    "colab": {
      "name": "CNN_CIFAR10.ipynb",
      "provenance": [],
      "authorship_tag": "ABX9TyMReRihtGvFXE5+sAPHhPnn",
      "include_colab_link": true
    },
    "kernelspec": {
      "name": "python3",
      "display_name": "Python 3"
    },
    "language_info": {
      "name": "python"
    },
    "accelerator": "GPU"
  },
  "cells": [
    {
      "cell_type": "markdown",
      "metadata": {
        "id": "view-in-github",
        "colab_type": "text"
      },
      "source": [
        "<a href=\"https://colab.research.google.com/github/Sid-rocco/Sid-rocco/blob/main/CNN_CIFAR10.ipynb\" target=\"_parent\"><img src=\"https://colab.research.google.com/assets/colab-badge.svg\" alt=\"Open In Colab\"/></a>"
      ]
    },
    {
      "cell_type": "code",
      "execution_count": 1,
      "metadata": {
        "id": "hSznQKu7MOmU"
      },
      "outputs": [],
      "source": [
        "import numpy as np\n",
        "import matplotlib.pyplot as plt\n",
        "from tensorflow import keras\n",
        "from tensorflow.keras import layers\n",
        "from tensorflow.keras.models import Sequential "
      ]
    },
    {
      "cell_type": "code",
      "source": [
        "(trainX, trainY), (testX, testY) = keras.datasets.cifar10.load_data()"
      ],
      "metadata": {
        "colab": {
          "base_uri": "https://localhost:8080/"
        },
        "id": "UJhWndRFNHyh",
        "outputId": "0fcd10a2-13a5-45d1-c936-cd9fbfd746e9"
      },
      "execution_count": 2,
      "outputs": [
        {
          "output_type": "stream",
          "name": "stdout",
          "text": [
            "Downloading data from https://www.cs.toronto.edu/~kriz/cifar-10-python.tar.gz\n",
            "170500096/170498071 [==============================] - 6s 0us/step\n",
            "170508288/170498071 [==============================] - 6s 0us/step\n"
          ]
        }
      ]
    },
    {
      "cell_type": "code",
      "source": [
        "print(f\"Shape of Training data: {trainX.shape}, {trainY.shape}\")\n",
        "print(f\"Shape of Testing data: {testX.shape}, {testY.shape}\")"
      ],
      "metadata": {
        "colab": {
          "base_uri": "https://localhost:8080/"
        },
        "id": "ORq2f1ZfQZmz",
        "outputId": "66beba5a-7c93-4f0c-a1ec-1b7ab5ad15de"
      },
      "execution_count": 3,
      "outputs": [
        {
          "output_type": "stream",
          "name": "stdout",
          "text": [
            "Shape of Training data: (50000, 32, 32, 3), (50000, 1)\n",
            "Shape of Testing data: (10000, 32, 32, 3), (10000, 1)\n"
          ]
        }
      ]
    },
    {
      "cell_type": "code",
      "source": [
        "no_classes = 10\n",
        "input_class_shape = (32, 32, 3)\n",
        "input_size = 32"
      ],
      "metadata": {
        "id": "M8O1rDsTQ9dv"
      },
      "execution_count": 4,
      "outputs": []
    },
    {
      "cell_type": "code",
      "source": [
        "plt.imshow(trainX[1])"
      ],
      "metadata": {
        "colab": {
          "base_uri": "https://localhost:8080/",
          "height": 283
        },
        "id": "KVds-nTARgqh",
        "outputId": "d4ac73ec-982d-43aa-dc3b-7335002751b8"
      },
      "execution_count": 5,
      "outputs": [
        {
          "output_type": "execute_result",
          "data": {
            "text/plain": [
              "<matplotlib.image.AxesImage at 0x7fa6bd0180d0>"
            ]
          },
          "metadata": {},
          "execution_count": 5
        },
        {
          "output_type": "display_data",
          "data": {
            "text/plain": [
              "<Figure size 432x288 with 1 Axes>"
            ],
            "image/png": "[encoded data removed]"
          },
          "metadata": {
            "needs_background": "light"
          }
        }
      ]
    },
    {
      "cell_type": "code",
      "source": [
        "trainX = keras.utils.normalize(trainX, axis=1)\n",
        "testX = keras.utils.normalize(testX, axis=1)"
      ],
      "metadata": {
        "id": "9RRohUdHRa1H"
      },
      "execution_count": 6,
      "outputs": []
    },
    {
      "cell_type": "code",
      "source": [
        "plt.imshow(trainX[1])"
      ],
      "metadata": {
        "colab": {
          "base_uri": "https://localhost:8080/",
          "height": 283
        },
        "id": "uKieNvPDRbsz",
        "outputId": "3e65acb2-bd27-4d89-e115-e3b1b0f2677b"
      },
      "execution_count": 7,
      "outputs": [
        {
          "output_type": "execute_result",
          "data": {
            "text/plain": [
              "<matplotlib.image.AxesImage at 0x7fa6bcb0e550>"
            ]
          },
          "metadata": {},
          "execution_count": 7
        },
        {
          "output_type": "display_data",
          "data": {
            "text/plain": [
              "<Figure size 432x288 with 1 Axes>"
            ],
            "image/png": "[encoded data removed]"
          },
          "metadata": {
            "needs_background": "light"
          }
        }
      ]
    },
    {
      "cell_type": "code",
      "source": [
        "model = Sequential(\n",
        "    [\n",
        "     layers.Conv2D(32, (3,3), input_shape = input_class_shape, activation = \"elu\"),\n",
        "     layers.MaxPooling2D(pool_size=(2,2)),\n",
        "     layers.Conv2D(32, (3,3), input_shape = input_class_shape, activation = \"elu\"),\n",
        "     layers.MaxPooling2D(pool_size=(2,2)),\n",
        "     layers.Dropout(0.3),\n",
        "     layers.Conv2D(64, (3,3), input_shape = input_class_shape, activation = \"elu\"),\n",
        "     layers.MaxPooling2D(pool_size=(2,2)),\n",
        "     layers.Dropout(0.4),\n",
        "\n",
        "     layers.Flatten(),\n",
        "     layers.Dense(64, activation = \"elu\"),\n",
        "     layers.Dense(32, activation = \"elu\"),\n",
        "     layers.Dense(no_classes, activation = \"softmax\"),\n",
        "     \n",
        "    ]\n",
        ")\n"
      ],
      "metadata": {
        "id": "NDvaHqMMUiw-"
      },
      "execution_count": 21,
      "outputs": []
    },
    {
      "cell_type": "code",
      "source": [
        "model.summary()"
      ],
      "metadata": {
        "colab": {
          "base_uri": "https://localhost:8080/"
        },
        "id": "KNP8OeKNgub7",
        "outputId": "efed7382-c939-431e-a644-ebcbfbc4b3d4"
      },
      "execution_count": 22,
      "outputs": [
        {
          "output_type": "stream",
          "name": "stdout",
          "text": [
            "Model: \"sequential_4\"\n",
            "_________________________________________________________________\n",
            " Layer (type)                Output Shape              Param #   \n",
            "=================================================================\n",
            " conv2d_12 (Conv2D)          (None, 30, 30, 32)        896       \n",
            "                                                                 \n",
            " max_pooling2d_12 (MaxPoolin  (None, 15, 15, 32)       0         \n",
            " g2D)                                                            \n",
            "                                                                 \n",
            " conv2d_13 (Conv2D)          (None, 13, 13, 32)        9248      \n",
            "                                                                 \n",
            " max_pooling2d_13 (MaxPoolin  (None, 6, 6, 32)         0         \n",
            " g2D)                                                            \n",
            "                                                                 \n",
            " dropout_8 (Dropout)         (None, 6, 6, 32)          0         \n",
            "                                                                 \n",
            " conv2d_14 (Conv2D)          (None, 4, 4, 64)          18496     \n",
            "                                                                 \n",
            " max_pooling2d_14 (MaxPoolin  (None, 2, 2, 64)         0         \n",
            " g2D)                                                            \n",
            "                                                                 \n",
            " dropout_9 (Dropout)         (None, 2, 2, 64)          0         \n",
            "                                                                 \n",
            " flatten_4 (Flatten)         (None, 256)               0         \n",
            "                                                                 \n",
            " dense_8 (Dense)             (None, 64)                16448     \n",
            "                                                                 \n",
            " dense_9 (Dense)             (None, 32)                2080      \n",
            "                                                                 \n",
            " dense_10 (Dense)            (None, 10)                330       \n",
            "                                                                 \n",
            "=================================================================\n",
            "Total params: 47,498\n",
            "Trainable params: 47,498\n",
            "Non-trainable params: 0\n",
            "_________________________________________________________________\n"
          ]
        }
      ]
    },
    {
      "cell_type": "code",
      "source": [
        "model.compile(loss='sparse_categorical_crossentropy', optimizer = 'adam', metrics=[\"accuracy\"])\n",
        "model.fit(trainX, trainY, batch_size = 20, epochs = 100, validation_split=0.1, verbose=1)"
      ],
      "metadata": {
        "colab": {
          "base_uri": "https://localhost:8080/"
        },
        "id": "MvSKYiKDc_on",
        "outputId": "93efd8b7-04f3-44a3-be6b-b28e585cf0ba"
      },
      "execution_count": 23,
      "outputs": [
        {
          "output_type": "stream",
          "name": "stdout",
          "text": [
            "Epoch 1/100\n",
            "2250/2250 [==============================] - 13s 6ms/step - loss: 1.7088 - accuracy: 0.3826 - val_loss: 1.4529 - val_accuracy: 0.4788\n",
            "Epoch 2/100\n",
            "2250/2250 [==============================] - 13s 6ms/step - loss: 1.4436 - accuracy: 0.4842 - val_loss: 1.2973 - val_accuracy: 0.5298\n",
            "Epoch 3/100\n",
            "2250/2250 [==============================] - 12s 5ms/step - loss: 1.3476 - accuracy: 0.5202 - val_loss: 1.2464 - val_accuracy: 0.5588\n",
            "Epoch 4/100\n",
            "2250/2250 [==============================] - 12s 5ms/step - loss: 1.2840 - accuracy: 0.5425 - val_loss: 1.1016 - val_accuracy: 0.6154\n",
            "Epoch 5/100\n",
            "2250/2250 [==============================] - 12s 6ms/step - loss: 1.2375 - accuracy: 0.5588 - val_loss: 1.1111 - val_accuracy: 0.6110\n",
            "Epoch 6/100\n",
            "2250/2250 [==============================] - 12s 6ms/step - loss: 1.1941 - accuracy: 0.5771 - val_loss: 1.0495 - val_accuracy: 0.6350\n",
            "Epoch 7/100\n",
            "2250/2250 [==============================] - 12s 5ms/step - loss: 1.1605 - accuracy: 0.5897 - val_loss: 1.0092 - val_accuracy: 0.6420\n",
            "Epoch 8/100\n",
            "2250/2250 [==============================] - 12s 5ms/step - loss: 1.1292 - accuracy: 0.6012 - val_loss: 1.0223 - val_accuracy: 0.6474\n",
            "Epoch 9/100\n",
            "2250/2250 [==============================] - 12s 5ms/step - loss: 1.1161 - accuracy: 0.6048 - val_loss: 1.0564 - val_accuracy: 0.6306\n",
            "Epoch 10/100\n",
            "2250/2250 [==============================] - 12s 5ms/step - loss: 1.0926 - accuracy: 0.6150 - val_loss: 1.0563 - val_accuracy: 0.6288\n",
            "Epoch 11/100\n",
            "2250/2250 [==============================] - 12s 5ms/step - loss: 1.0758 - accuracy: 0.6198 - val_loss: 0.9888 - val_accuracy: 0.6594\n",
            "Epoch 12/100\n",
            "2250/2250 [==============================] - 12s 5ms/step - loss: 1.0585 - accuracy: 0.6283 - val_loss: 0.9715 - val_accuracy: 0.6682\n",
            "Epoch 13/100\n",
            "2250/2250 [==============================] - 12s 5ms/step - loss: 1.0491 - accuracy: 0.6292 - val_loss: 0.9333 - val_accuracy: 0.6742\n",
            "Epoch 14/100\n",
            "2250/2250 [==============================] - 12s 6ms/step - loss: 1.0315 - accuracy: 0.6344 - val_loss: 0.9384 - val_accuracy: 0.6760\n",
            "Epoch 15/100\n",
            "2250/2250 [==============================] - 12s 5ms/step - loss: 1.0227 - accuracy: 0.6394 - val_loss: 0.9565 - val_accuracy: 0.6686\n",
            "Epoch 16/100\n",
            "2250/2250 [==============================] - 12s 5ms/step - loss: 1.0097 - accuracy: 0.6446 - val_loss: 0.8688 - val_accuracy: 0.7026\n",
            "Epoch 17/100\n",
            "2250/2250 [==============================] - 12s 6ms/step - loss: 1.0026 - accuracy: 0.6472 - val_loss: 0.9037 - val_accuracy: 0.6898\n",
            "Epoch 18/100\n",
            "2250/2250 [==============================] - 13s 6ms/step - loss: 0.9970 - accuracy: 0.6491 - val_loss: 1.0083 - val_accuracy: 0.6472\n",
            "Epoch 19/100\n",
            "2250/2250 [==============================] - 12s 5ms/step - loss: 0.9955 - accuracy: 0.6508 - val_loss: 0.9083 - val_accuracy: 0.6830\n",
            "Epoch 20/100\n",
            "2250/2250 [==============================] - 12s 5ms/step - loss: 0.9899 - accuracy: 0.6486 - val_loss: 0.8998 - val_accuracy: 0.6934\n",
            "Epoch 21/100\n",
            "2250/2250 [==============================] - 13s 6ms/step - loss: 0.9774 - accuracy: 0.6563 - val_loss: 0.9305 - val_accuracy: 0.6764\n",
            "Epoch 22/100\n",
            "2250/2250 [==============================] - 12s 5ms/step - loss: 0.9772 - accuracy: 0.6577 - val_loss: 0.9016 - val_accuracy: 0.6886\n",
            "Epoch 23/100\n",
            "2250/2250 [==============================] - 12s 5ms/step - loss: 0.9678 - accuracy: 0.6601 - val_loss: 0.8949 - val_accuracy: 0.6896\n",
            "Epoch 24/100\n",
            "2250/2250 [==============================] - 12s 5ms/step - loss: 0.9687 - accuracy: 0.6585 - val_loss: 0.8521 - val_accuracy: 0.7052\n",
            "Epoch 25/100\n",
            "2250/2250 [==============================] - 12s 5ms/step - loss: 0.9548 - accuracy: 0.6642 - val_loss: 0.8469 - val_accuracy: 0.7090\n",
            "Epoch 26/100\n",
            "2250/2250 [==============================] - 12s 5ms/step - loss: 0.9546 - accuracy: 0.6643 - val_loss: 0.8649 - val_accuracy: 0.7000\n",
            "Epoch 27/100\n",
            "2250/2250 [==============================] - 12s 5ms/step - loss: 0.9472 - accuracy: 0.6657 - val_loss: 0.8425 - val_accuracy: 0.7096\n",
            "Epoch 28/100\n",
            "2250/2250 [==============================] - 13s 6ms/step - loss: 0.9482 - accuracy: 0.6652 - val_loss: 0.9201 - val_accuracy: 0.6848\n",
            "Epoch 29/100\n",
            "2250/2250 [==============================] - 12s 5ms/step - loss: 0.9422 - accuracy: 0.6693 - val_loss: 0.8428 - val_accuracy: 0.7120\n",
            "Epoch 30/100\n",
            "2250/2250 [==============================] - 12s 6ms/step - loss: 0.9285 - accuracy: 0.6748 - val_loss: 0.8518 - val_accuracy: 0.7042\n",
            "Epoch 31/100\n",
            "2250/2250 [==============================] - 12s 6ms/step - loss: 0.9320 - accuracy: 0.6748 - val_loss: 0.8323 - val_accuracy: 0.7134\n",
            "Epoch 32/100\n",
            "2250/2250 [==============================] - 12s 6ms/step - loss: 0.9271 - accuracy: 0.6733 - val_loss: 0.8520 - val_accuracy: 0.7050\n",
            "Epoch 33/100\n",
            "2250/2250 [==============================] - 12s 5ms/step - loss: 0.9237 - accuracy: 0.6745 - val_loss: 0.8367 - val_accuracy: 0.7108\n",
            "Epoch 34/100\n",
            "2250/2250 [==============================] - 12s 5ms/step - loss: 0.9241 - accuracy: 0.6762 - val_loss: 0.8314 - val_accuracy: 0.7132\n",
            "Epoch 35/100\n",
            "2250/2250 [==============================] - 12s 6ms/step - loss: 0.9163 - accuracy: 0.6792 - val_loss: 0.8660 - val_accuracy: 0.7004\n",
            "Epoch 36/100\n",
            "2250/2250 [==============================] - 12s 6ms/step - loss: 0.9205 - accuracy: 0.6784 - val_loss: 0.8210 - val_accuracy: 0.7198\n",
            "Epoch 37/100\n",
            "2250/2250 [==============================] - 12s 5ms/step - loss: 0.9106 - accuracy: 0.6800 - val_loss: 0.8052 - val_accuracy: 0.7314\n",
            "Epoch 38/100\n",
            "2250/2250 [==============================] - 12s 6ms/step - loss: 0.9091 - accuracy: 0.6808 - val_loss: 0.8108 - val_accuracy: 0.7272\n",
            "Epoch 39/100\n",
            "2250/2250 [==============================] - 13s 6ms/step - loss: 0.9078 - accuracy: 0.6804 - val_loss: 0.8580 - val_accuracy: 0.6982\n",
            "Epoch 40/100\n",
            "2250/2250 [==============================] - 12s 5ms/step - loss: 0.9014 - accuracy: 0.6821 - val_loss: 0.8447 - val_accuracy: 0.7104\n",
            "Epoch 41/100\n",
            "2250/2250 [==============================] - 12s 5ms/step - loss: 0.8993 - accuracy: 0.6829 - val_loss: 0.8500 - val_accuracy: 0.7078\n",
            "Epoch 42/100\n",
            "2250/2250 [==============================] - 12s 6ms/step - loss: 0.8970 - accuracy: 0.6855 - val_loss: 0.8355 - val_accuracy: 0.7184\n",
            "Epoch 43/100\n",
            "2250/2250 [==============================] - 12s 6ms/step - loss: 0.8971 - accuracy: 0.6842 - val_loss: 0.8967 - val_accuracy: 0.6896\n",
            "Epoch 44/100\n",
            "2250/2250 [==============================] - 13s 6ms/step - loss: 0.8974 - accuracy: 0.6855 - val_loss: 0.7880 - val_accuracy: 0.7326\n",
            "Epoch 45/100\n",
            "2250/2250 [==============================] - 12s 5ms/step - loss: 0.8902 - accuracy: 0.6884 - val_loss: 0.8034 - val_accuracy: 0.7298\n",
            "Epoch 46/100\n",
            "2250/2250 [==============================] - 12s 5ms/step - loss: 0.8938 - accuracy: 0.6866 - val_loss: 0.8194 - val_accuracy: 0.7236\n",
            "Epoch 47/100\n",
            "2250/2250 [==============================] - 12s 5ms/step - loss: 0.8827 - accuracy: 0.6885 - val_loss: 0.8142 - val_accuracy: 0.7210\n",
            "Epoch 48/100\n",
            "2250/2250 [==============================] - 12s 5ms/step - loss: 0.8921 - accuracy: 0.6867 - val_loss: 0.7993 - val_accuracy: 0.7310\n",
            "Epoch 49/100\n",
            "2250/2250 [==============================] - 12s 5ms/step - loss: 0.8852 - accuracy: 0.6884 - val_loss: 0.7892 - val_accuracy: 0.7296\n",
            "Epoch 50/100\n",
            "2250/2250 [==============================] - 12s 5ms/step - loss: 0.8803 - accuracy: 0.6916 - val_loss: 0.7947 - val_accuracy: 0.7332\n",
            "Epoch 51/100\n",
            "2250/2250 [==============================] - 12s 5ms/step - loss: 0.8818 - accuracy: 0.6914 - val_loss: 0.8179 - val_accuracy: 0.7192\n",
            "Epoch 52/100\n",
            "2250/2250 [==============================] - 12s 5ms/step - loss: 0.8788 - accuracy: 0.6944 - val_loss: 0.7835 - val_accuracy: 0.7290\n",
            "Epoch 53/100\n",
            "2250/2250 [==============================] - 12s 5ms/step - loss: 0.8675 - accuracy: 0.6961 - val_loss: 0.7933 - val_accuracy: 0.7320\n",
            "Epoch 54/100\n",
            "2250/2250 [==============================] - 12s 5ms/step - loss: 0.8712 - accuracy: 0.6929 - val_loss: 0.7998 - val_accuracy: 0.7294\n",
            "Epoch 55/100\n",
            "2250/2250 [==============================] - 12s 5ms/step - loss: 0.8780 - accuracy: 0.6930 - val_loss: 0.7878 - val_accuracy: 0.7334\n",
            "Epoch 56/100\n",
            "2250/2250 [==============================] - 13s 6ms/step - loss: 0.8706 - accuracy: 0.6955 - val_loss: 0.8211 - val_accuracy: 0.7272\n",
            "Epoch 57/100\n",
            "2250/2250 [==============================] - 12s 5ms/step - loss: 0.8715 - accuracy: 0.6974 - val_loss: 0.8411 - val_accuracy: 0.7122\n",
            "Epoch 58/100\n",
            "2250/2250 [==============================] - 12s 6ms/step - loss: 0.8715 - accuracy: 0.6954 - val_loss: 0.8043 - val_accuracy: 0.7318\n",
            "Epoch 59/100\n",
            "2250/2250 [==============================] - 12s 6ms/step - loss: 0.8679 - accuracy: 0.6966 - val_loss: 0.7872 - val_accuracy: 0.7290\n",
            "Epoch 60/100\n",
            "2250/2250 [==============================] - 12s 6ms/step - loss: 0.8685 - accuracy: 0.6970 - val_loss: 0.8078 - val_accuracy: 0.7198\n",
            "Epoch 61/100\n",
            "2250/2250 [==============================] - 12s 5ms/step - loss: 0.8638 - accuracy: 0.6962 - val_loss: 0.8718 - val_accuracy: 0.6986\n",
            "Epoch 62/100\n",
            "2250/2250 [==============================] - 12s 6ms/step - loss: 0.8656 - accuracy: 0.6986 - val_loss: 0.7829 - val_accuracy: 0.7316\n",
            "Epoch 63/100\n",
            "2250/2250 [==============================] - 12s 5ms/step - loss: 0.8636 - accuracy: 0.6975 - val_loss: 0.7814 - val_accuracy: 0.7288\n",
            "Epoch 64/100\n",
            "2250/2250 [==============================] - 12s 5ms/step - loss: 0.8646 - accuracy: 0.6953 - val_loss: 0.7654 - val_accuracy: 0.7438\n",
            "Epoch 65/100\n",
            "2250/2250 [==============================] - 12s 6ms/step - loss: 0.8590 - accuracy: 0.6999 - val_loss: 0.7997 - val_accuracy: 0.7278\n",
            "Epoch 66/100\n",
            "2250/2250 [==============================] - 12s 6ms/step - loss: 0.8559 - accuracy: 0.6992 - val_loss: 0.7853 - val_accuracy: 0.7338\n",
            "Epoch 67/100\n",
            "2250/2250 [==============================] - 12s 6ms/step - loss: 0.8548 - accuracy: 0.7011 - val_loss: 0.7960 - val_accuracy: 0.7290\n",
            "Epoch 68/100\n",
            "2250/2250 [==============================] - 12s 6ms/step - loss: 0.8575 - accuracy: 0.6998 - val_loss: 0.7777 - val_accuracy: 0.7348\n",
            "Epoch 69/100\n",
            "2250/2250 [==============================] - 12s 6ms/step - loss: 0.8563 - accuracy: 0.6998 - val_loss: 0.7820 - val_accuracy: 0.7354\n",
            "Epoch 70/100\n",
            "2250/2250 [==============================] - 12s 5ms/step - loss: 0.8557 - accuracy: 0.6968 - val_loss: 0.7676 - val_accuracy: 0.7350\n",
            "Epoch 71/100\n",
            "2250/2250 [==============================] - 12s 5ms/step - loss: 0.8508 - accuracy: 0.7041 - val_loss: 0.7984 - val_accuracy: 0.7284\n",
            "Epoch 72/100\n",
            "2250/2250 [==============================] - 12s 5ms/step - loss: 0.8526 - accuracy: 0.7034 - val_loss: 0.7725 - val_accuracy: 0.7334\n",
            "Epoch 73/100\n",
            "2250/2250 [==============================] - 12s 5ms/step - loss: 0.8514 - accuracy: 0.7017 - val_loss: 0.7872 - val_accuracy: 0.7334\n",
            "Epoch 74/100\n",
            "2250/2250 [==============================] - 13s 6ms/step - loss: 0.8526 - accuracy: 0.7029 - val_loss: 0.7933 - val_accuracy: 0.7324\n",
            "Epoch 75/100\n",
            "2250/2250 [==============================] - 12s 6ms/step - loss: 0.8465 - accuracy: 0.7044 - val_loss: 0.7990 - val_accuracy: 0.7274\n",
            "Epoch 76/100\n",
            "2250/2250 [==============================] - 12s 6ms/step - loss: 0.8488 - accuracy: 0.7024 - val_loss: 0.7997 - val_accuracy: 0.7270\n",
            "Epoch 77/100\n",
            "2250/2250 [==============================] - 12s 6ms/step - loss: 0.8438 - accuracy: 0.7050 - val_loss: 0.8051 - val_accuracy: 0.7234\n",
            "Epoch 78/100\n",
            "2250/2250 [==============================] - 12s 6ms/step - loss: 0.8442 - accuracy: 0.7068 - val_loss: 0.8037 - val_accuracy: 0.7204\n",
            "Epoch 79/100\n",
            "2250/2250 [==============================] - 12s 6ms/step - loss: 0.8433 - accuracy: 0.7049 - val_loss: 0.8056 - val_accuracy: 0.7240\n",
            "Epoch 80/100\n",
            "2250/2250 [==============================] - 12s 6ms/step - loss: 0.8393 - accuracy: 0.7063 - val_loss: 0.7624 - val_accuracy: 0.7430\n",
            "Epoch 81/100\n",
            "2250/2250 [==============================] - 12s 6ms/step - loss: 0.8373 - accuracy: 0.7075 - val_loss: 0.7855 - val_accuracy: 0.7330\n",
            "Epoch 82/100\n",
            "2250/2250 [==============================] - 12s 5ms/step - loss: 0.8468 - accuracy: 0.7028 - val_loss: 0.7958 - val_accuracy: 0.7318\n",
            "Epoch 83/100\n",
            "2250/2250 [==============================] - 12s 6ms/step - loss: 0.8413 - accuracy: 0.7045 - val_loss: 0.7701 - val_accuracy: 0.7358\n",
            "Epoch 84/100\n",
            "2250/2250 [==============================] - 13s 6ms/step - loss: 0.8385 - accuracy: 0.7079 - val_loss: 0.7606 - val_accuracy: 0.7418\n",
            "Epoch 85/100\n",
            "2250/2250 [==============================] - 12s 6ms/step - loss: 0.8375 - accuracy: 0.7072 - val_loss: 0.7760 - val_accuracy: 0.7352\n",
            "Epoch 86/100\n",
            "2250/2250 [==============================] - 12s 6ms/step - loss: 0.8363 - accuracy: 0.7068 - val_loss: 0.7400 - val_accuracy: 0.7474\n",
            "Epoch 87/100\n",
            "2250/2250 [==============================] - 12s 5ms/step - loss: 0.8386 - accuracy: 0.7046 - val_loss: 0.7662 - val_accuracy: 0.7312\n",
            "Epoch 88/100\n",
            "2250/2250 [==============================] - 12s 6ms/step - loss: 0.8377 - accuracy: 0.7074 - val_loss: 0.7806 - val_accuracy: 0.7308\n",
            "Epoch 89/100\n",
            "2250/2250 [==============================] - 12s 5ms/step - loss: 0.8316 - accuracy: 0.7103 - val_loss: 0.7601 - val_accuracy: 0.7488\n",
            "Epoch 90/100\n",
            "2250/2250 [==============================] - 12s 6ms/step - loss: 0.8317 - accuracy: 0.7083 - val_loss: 0.7626 - val_accuracy: 0.7400\n",
            "Epoch 91/100\n",
            "2250/2250 [==============================] - 12s 6ms/step - loss: 0.8355 - accuracy: 0.7088 - val_loss: 0.7809 - val_accuracy: 0.7358\n",
            "Epoch 92/100\n",
            "2250/2250 [==============================] - 13s 6ms/step - loss: 0.8332 - accuracy: 0.7101 - val_loss: 0.7709 - val_accuracy: 0.7352\n",
            "Epoch 93/100\n",
            "2250/2250 [==============================] - 13s 6ms/step - loss: 0.8322 - accuracy: 0.7106 - val_loss: 0.7561 - val_accuracy: 0.7438\n",
            "Epoch 94/100\n",
            "2250/2250 [==============================] - 12s 6ms/step - loss: 0.8350 - accuracy: 0.7094 - val_loss: 0.7557 - val_accuracy: 0.7390\n",
            "Epoch 95/100\n",
            "2250/2250 [==============================] - 12s 6ms/step - loss: 0.8339 - accuracy: 0.7090 - val_loss: 0.7807 - val_accuracy: 0.7358\n",
            "Epoch 96/100\n",
            "2250/2250 [==============================] - 12s 5ms/step - loss: 0.8276 - accuracy: 0.7140 - val_loss: 0.7521 - val_accuracy: 0.7428\n",
            "Epoch 97/100\n",
            "2250/2250 [==============================] - 12s 6ms/step - loss: 0.8242 - accuracy: 0.7117 - val_loss: 0.7554 - val_accuracy: 0.7480\n",
            "Epoch 98/100\n",
            "2250/2250 [==============================] - 12s 5ms/step - loss: 0.8249 - accuracy: 0.7106 - val_loss: 0.8120 - val_accuracy: 0.7230\n",
            "Epoch 99/100\n",
            "2250/2250 [==============================] - 12s 6ms/step - loss: 0.8280 - accuracy: 0.7107 - val_loss: 0.7560 - val_accuracy: 0.7404\n",
            "Epoch 100/100\n",
            "2250/2250 [==============================] - 12s 6ms/step - loss: 0.8249 - accuracy: 0.7103 - val_loss: 0.7451 - val_accuracy: 0.7406\n"
          ]
        },
        {
          "output_type": "execute_result",
          "data": {
            "text/plain": [
              "<keras.callbacks.History at 0x7fa6431d16d0>"
            ]
          },
          "metadata": {},
          "execution_count": 23
        }
      ]
    },
    {
      "cell_type": "code",
      "source": [
        "score = model.evaluate(testX, testY)\n",
        "print(\"Test loss: \", score[0])\n",
        "print(\"Test acc: \", score[1])"
      ],
      "metadata": {
        "colab": {
          "base_uri": "https://localhost:8080/"
        },
        "id": "7ZpqpL30etll",
        "outputId": "12590e93-6aff-4830-9270-3af7d9aecebc"
      },
      "execution_count": 24,
      "outputs": [
        {
          "output_type": "stream",
          "name": "stdout",
          "text": [
            "313/313 [==============================] - 2s 4ms/step - loss: 0.7736 - accuracy: 0.7377\n",
            "Test loss:  0.7735686898231506\n",
            "Test acc:  0.7376999855041504\n"
          ]
        }
      ]
    }
  ]
}